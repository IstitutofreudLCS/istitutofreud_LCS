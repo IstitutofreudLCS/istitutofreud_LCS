{
 "cells": [
  {
   "cell_type": "markdown",
   "id": "15a8d71a",
   "metadata": {},
   "source": [
    "esercitazzione pyton"
   ]
  },
  {
   "cell_type": "code",
   "execution_count": null,
   "id": "28d7b5d6",
   "metadata": {},
   "outputs": [],
   "source": [
    "nome = input(\"inserisci il nome: \")"
   ]
  },
  {
   "cell_type": "code",
   "execution_count": null,
   "id": "fd64e402",
   "metadata": {},
   "outputs": [],
   "source": [
    "print(\"ciao\", nome, \"!\")"
   ]
  },
  {
   "cell_type": "code",
   "execution_count": null,
   "id": "e62940aa",
   "metadata": {},
   "outputs": [],
   "source": [
    "nome= input(\"come ti chiami?\")"
   ]
  },
  {
   "cell_type": "code",
   "execution_count": null,
   "id": "cb96a75e",
   "metadata": {},
   "outputs": [],
   "source": [
    "print(nome)"
   ]
  },
  {
   "cell_type": "code",
   "execution_count": null,
   "id": "3ebf6081",
   "metadata": {},
   "outputs": [],
   "source": [
    "nome= input(\"come ti chiami? \")\n",
    "for i in range(20):\n",
    "    print(nome)"
   ]
  },
  {
   "cell_type": "code",
   "execution_count": 2,
   "id": "b3e4431b",
   "metadata": {},
   "outputs": [
    {
     "name": "stdout",
     "output_type": "stream",
     "text": [
      "x+y\n",
      "x-y\n",
      "x*y\n",
      "x/y\n"
     ]
    }
   ],
   "source": [
    "print(\"x+y\")\n",
    "print(\"x-y\")\n",
    "print(\"x*y\")\n",
    "print(\"x/y\")"
   ]
  },
  {
   "cell_type": "code",
   "execution_count": 3,
   "id": "5d609eae",
   "metadata": {
    "scrolled": true
   },
   "outputs": [
    {
     "name": "stdout",
     "output_type": "stream",
     "text": [
      "x+y\n",
      "x-y\n",
      "x*y\n",
      "x/y\n"
     ]
    }
   ],
   "source": [
    "set=print(\"x+y\")\n",
    "set=print(\"x-y\")\n",
    "set=print(\"x*y\")\n",
    "set=print(\"x/y\")"
   ]
  },
  {
   "cell_type": "code",
   "execution_count": 4,
   "id": "9440d25a",
   "metadata": {},
   "outputs": [
    {
     "name": "stdout",
     "output_type": "stream",
     "text": [
      "inserisci il primo numero1\n",
      "inserisci il secondo numero2\n",
      "la somma è: 3\n"
     ]
    }
   ],
   "source": [
    "numero1=int(input(\"inserisci il primo numero\"))\n",
    "numero2=int(input(\"inserisci il secondo numero\"))\n",
    "somma= numero1 + numero2\n",
    "print(\"la somma è:\", somma)"
   ]
  },
  {
   "cell_type": "markdown",
   "id": "c98bec44",
   "metadata": {},
   "source": [
    "somma ecc..."
   ]
  },
  {
   "cell_type": "code",
   "execution_count": 5,
   "id": "1204d03c",
   "metadata": {},
   "outputs": [
    {
     "name": "stdout",
     "output_type": "stream",
     "text": [
      "inserisci il primo numero 2\n",
      "inserisci il secondo numero 3\n",
      "la somma è: 5\n",
      "la divisione è: 0.6666666666666666\n",
      "la sottrazione è: -1\n",
      "la moltiplicazzione è: 6\n"
     ]
    }
   ],
   "source": [
    "numero1=int(input(\"inserisci il primo numero \"))\n",
    "numero2=int(input(\"inserisci il secondo numero \"))\n",
    "\n",
    "somma= numero1 + numero2\n",
    "print(\"la somma è:\", somma)\n",
    "\n",
    "divisione= numero1 / numero2\n",
    "print(\"la divisione è:\", divisione)\n",
    "\n",
    "sottrazione= numero1 - numero2\n",
    "print(\"la sottrazione è:\", sottrazione)\n",
    "\n",
    "moltiplicazzione= numero1 * numero2\n",
    "print(\"la moltiplicazzione è:\", moltiplicazzione)\n"
   ]
  },
  {
   "cell_type": "markdown",
   "id": "3eaadf81",
   "metadata": {},
   "source": [
    "loop e ripetizzione"
   ]
  },
  {
   "cell_type": "code",
   "execution_count": 2,
   "id": "8f6b84b1",
   "metadata": {},
   "outputs": [
    {
     "name": "stdout",
     "output_type": "stream",
     "text": [
      "0\n",
      "1\n",
      "2\n",
      "3\n",
      "4\n",
      "5\n",
      "6\n",
      "7\n",
      "8\n",
      "9\n",
      "10\n"
     ]
    }
   ],
   "source": [
    "for numero in range(11):\n",
    "    print(numero)"
   ]
  },
  {
   "cell_type": "code",
   "execution_count": 3,
   "id": "26396559",
   "metadata": {},
   "outputs": [
    {
     "name": "stdout",
     "output_type": "stream",
     "text": [
      "4\n",
      "5\n",
      "6\n",
      "7\n",
      "8\n",
      "9\n",
      "10\n"
     ]
    }
   ],
   "source": [
    "for numero in range(4,11):\n",
    "    print(numero)"
   ]
  },
  {
   "cell_type": "markdown",
   "id": "d84d4c07",
   "metadata": {},
   "source": [
    "calcolatrice bella"
   ]
  },
  {
   "cell_type": "code",
   "execution_count": 4,
   "id": "5a4dbc28",
   "metadata": {},
   "outputs": [
    {
     "name": "stdout",
     "output_type": "stream",
     "text": [
      "inserisci l'operazione (+, -, *, /): +\n",
      "inserisci il primo numero: 1\n",
      "inserisci il secondo numero: 2\n",
      "il risultato è: 3.0\n"
     ]
    }
   ],
   "source": [
    "operazione= input(\"inserisci l'operazione (+, -, *, /): \")\n",
    "\n",
    "numero1= float(input(\"inserisci il primo numero: \"))\n",
    "numero2= float(input(\"inserisci il secondo numero: \"))\n",
    "\n",
    "if operazione ==\"+\":\n",
    "    risultato= numero1+ numero2\n",
    "elif operazione ==\"-\":\n",
    "    risultato= numero1- numero2\n",
    "elif operazione ==\"*\":\n",
    "    risultato= numero1* numero2\n",
    "elif operazione ==\"/\":\n",
    "    risultato= numero1/ numero2\n",
    "else:\n",
    "    risultato= \"operazzione non valida\"\n",
    "    \n",
    "print(\"il risultato è:\", risultato)\n"
   ]
  },
  {
   "cell_type": "code",
   "execution_count": 5,
   "id": "54683b82",
   "metadata": {},
   "outputs": [
    {
     "name": "stdout",
     "output_type": "stream",
     "text": [
      "inserisci un numero interso positivo: 2\n",
      "la somma dei primi 2 numeri interi 1\n",
      "la somma dei primi 2 numeri interi 3\n"
     ]
    }
   ],
   "source": [
    "n= int(input(\"inserisci un numero interso positivo: \"))\n",
    "somma=0\n",
    "\n",
    "for numero in range(1, n+1):\n",
    "    somma+=numero\n",
    "    print(\"la somma dei primi\", n,\"numeri interi\", somma)\n",
    "    "
   ]
  },
  {
   "cell_type": "code",
   "execution_count": null,
   "id": "a9938a55",
   "metadata": {},
   "outputs": [],
   "source": [
    "numeri = []\n",
    "\n",
    "n = int(input(\"quanti numeri vuoi inserire\"))\n",
    "\n",
    "for i in range(n):\n",
    "    numero=float(input(\"inserisci un numero\"))\n",
    "    numeri.append(numero)\n",
    "    \n",
    "media = sum(numeri) / len(numeri)\n",
    "print(\"la media dei numeri inseriti è:\", media,\"la lista completa è:\",numeri)\n"
   ]
  },
  {
   "cell_type": "markdown",
   "id": "f729c9e0",
   "metadata": {},
   "source": []
  },
  {
   "cell_type": "markdown",
   "id": "4cb0e20b",
   "metadata": {},
   "source": [
    "indovinello"
   ]
  },
  {
   "cell_type": "code",
   "execution_count": 1,
   "id": "fd91efe3",
   "metadata": {},
   "outputs": [
    {
     "name": "stdout",
     "output_type": "stream",
     "text": [
      "indovina il numero (1-100): 50\n",
      "il numero e piu piccolo.\n",
      "indovina il numero (1-100): 40\n",
      "il numero e piu piccolo.\n",
      "indovina il numero (1-100): 30\n",
      "il numero e piu piccolo.\n",
      "indovina il numero (1-100): 20\n",
      "il numero e piu piccolo.\n",
      "indovina il numero (1-100): 10\n",
      "il numero e piu piccolo.\n",
      "indovina il numero (1-100): 3\n",
      "il numero e piu piccolo.\n",
      "indovina il numero (1-100): 2\n",
      "bravo! hai indovinato il numero 2 in 7 tentativi.\n"
     ]
    }
   ],
   "source": [
    "import random\n",
    "numero_da_indovinare = random.randint(1, 100)\n",
    "tentativi = 0\n",
    "\n",
    "while True:\n",
    "    tentativo=int(input(\"indovina il numero (1-100): \"))\n",
    "    tentativi+=1\n",
    "    \n",
    "    if tentativo == numero_da_indovinare:\n",
    "        print(\"bravo! hai indovinato il numero\", numero_da_indovinare, \"in\", tentativi, \"tentativi.\")\n",
    "        break\n",
    "    elif tentativo < numero_da_indovinare:\n",
    "        print(\"il numero e piu grande.\")\n",
    "    else:\n",
    "        print(\"il numero e piu piccolo.\")\n",
    "        "
   ]
  },
  {
   "cell_type": "code",
   "execution_count": 2,
   "id": "005d1f54",
   "metadata": {},
   "outputs": [
    {
     "ename": "SyntaxError",
     "evalue": "invalid syntax (2641488921.py, line 14)",
     "output_type": "error",
     "traceback": [
      "\u001b[1;36m  Cell \u001b[1;32mIn[2], line 14\u001b[1;36m\u001b[0m\n\u001b[1;33m    elif (scelta_giocatore==computer_mossa:)\u001b[0m\n\u001b[1;37m    ^\u001b[0m\n\u001b[1;31mSyntaxError\u001b[0m\u001b[1;31m:\u001b[0m invalid syntax\n"
     ]
    }
   ],
   "source": [
    "import random\n",
    "mosse[\"carta\",\"forbice\",\"sasso\"]\n",
    "\n",
    "computer_mossa=random.choice(mossa)\n",
    "\n",
    "print(\"benvenuti al gioco\")\n",
    "scelta_giocatore=input(\"scelta della tua mossa(carta,forbice,sasso):\")\n",
    "if scelta_giocatore not in mosse:\n",
    "    print(\"mosse non permessa\")\n",
    "else:\n",
    "    print(\"il computer ha scelto:\", cmputer_mossa)\n",
    "    if scelta_giocatore==computer_mossa:\n",
    "        print(\"pareggio\")\n",
    "        elif (scelta_giocatore==computer_mossa:)\n",
    "        (scelta_giocatore==\"carta\" and computer_mossa==\"sasso\")or\\\n",
    "        (scelta_giocatore==\"forbice\" and computer_mossa==\"sasso\")or\\\n",
    "        (scelta_giocatore==\"forbice\" and computer_mossa==\"catra\")or\\\n",
    "        "
   ]
  },
  {
   "cell_type": "markdown",
   "id": "3387ae96",
   "metadata": {},
   "source": [
    "# n=int(input(\"inserisci il numero intero: \"))\n",
    "\n",
    "fattoriale=1\n",
    "\n",
    "if n<0:\n",
    "    print(\"numero negativo\")\n",
    "elif n==0:\n",
    "    print(\"il fattoriale di zero e 1\")\n",
    "else:\n",
    "    for numero in range(1,n+1):\n",
    "        fattoriale*=numero\n",
    "print(f\"il fattoriale di {n} è {fattoriale}\")\n"
   ]
  },
  {
   "cell_type": "code",
   "execution_count": null,
   "id": "97613c5c",
   "metadata": {},
   "outputs": [],
   "source": [
    "N=int(input(\"inserisci un numero intero positivo N: \"))\n",
    "lista=[]\n",
    "\n",
    "for numero in range(2,2 * N +1,2):\n",
    "    lista.append(numero)\n",
    "    \n",
    "print(lista)"
   ]
  },
  {
   "cell_type": "code",
   "execution_count": null,
   "id": "dbe3569c",
   "metadata": {},
   "outputs": [],
   "source": [
    "frase=input(\"inserisci una frase o una parola: \").lower()\n",
    "\n",
    "conteggio_vocali=0\n",
    "\n",
    "vocali=\"aeiou\"\n",
    "\n",
    "for carattere in frase:\n",
    "    if carattere in vocali:\n",
    "        conteggio_vocali += 1\n",
    "\n",
    "print(f\"nella frase inserita ci sono {conteggio_vocali} vocali.\")\n"
   ]
  },
  {
   "cell_type": "code",
   "execution_count": null,
   "id": "bbf8811c",
   "metadata": {},
   "outputs": [],
   "source": [
    "print(\"Benvenuto nel convertitore di unità di misura!\")\n",
    "scelta = input(\"Cosa desideri convertire? (metri/piedi/chilogrammi/libbre): \").lower()\n",
    "\n",
    "if scelta == \"metri\":\n",
    "    valore = float(input(\"Inserisci il valore in metri: \"))\n",
    "    risultato = valore * 3.28084\n",
    "    print(f\"{valore} metri corrispondono a {risultato} piedi\")\n",
    "elif scelta == \"piedi\":\n",
    "    valore = float(input(\"Inserisci il valore in metri: \"))\n",
    "    risultato = valore * 3.28084\n",
    "    print(f\"{valore} piedi corrispondono a {risultato} metri\")\n",
    "elif scelta == \"chilogrammi\":\n",
    "    valore = float(input(\"Inserisci il valore in metri: \"))\n",
    "    risultato = valore * 2.20462\n",
    "    print(f\"{valore} chilogrammi corrispondono a {risultato} libbre\")\n",
    "elif scelta == \"libbre\":\n",
    "    valore = float(input(\"Inserisci il valore in metri: \"))\n",
    "    risultato = valore * 2.20462\n",
    "    print(f\"{valore} libbre corrispondono a {risultato} chilogrammi\")\n",
    "else:\n",
    "    print(\"Scelta non valida. Scegli tra 'metri', 'piedi', 'chilogrammi' o 'libbre'.\")\n",
    "    "
   ]
  },
  {
   "cell_type": "code",
   "execution_count": null,
   "id": "5caa5636",
   "metadata": {},
   "outputs": [],
   "source": [
    " n = int(input(\"Inserisci un numero n p'er calcolare l'n-esimo numero di Fibonacci: \"))\n",
    "\n",
    "a=0\n",
    "b=1\n",
    "c=1\n",
    "#il terzo numero è la somma dei primi 2\n",
    "if n <= 0:\n",
    "    print(\"Il numero deve essere maggiore di zero.\")\n",
    "elif n == 1:\n",
    "    risultato = a\n",
    "else:\n",
    "    for iterazione in range(n-3):\n",
    "        a = b\n",
    "        b = c\n",
    "        c = a + b\n",
    "        risultato = c\n",
    "print(\"L'n-esimo numero di fibonacci è:\",risultato)"
   ]
  },
  {
   "cell_type": "code",
   "execution_count": null,
   "id": "dd764031",
   "metadata": {},
   "outputs": [],
   "source": [
    "def fibonacci(n):\n",
    "    fib_series=[0, 1]\n",
    "    \n",
    "    while len(fib_series) < n:\n",
    "        fib_series.append(fib_series[-1] + fib_series[-2])\n",
    "        \n",
    "        return fib_series\n",
    "    \n"
   ]
  },
  {
   "cell_type": "code",
   "execution_count": null,
   "id": "8100fab8",
   "metadata": {},
   "outputs": [],
   "source": [
    "fibonacci(10)"
   ]
  },
  {
   "cell_type": "code",
   "execution_count": null,
   "id": "898915f5",
   "metadata": {},
   "outputs": [],
   "source": [
    "import math\n",
    "\n",
    "def calcola_area_cerchio(raggio):\n",
    "    return math.pi *(raggio ** 2)\n",
    "\n",
    "def calcola_area_rettangolo(base, altezza):\n",
    "    retutn base * altezza\n",
    "    \n",
    "def calcola_ area_triangolo(base, altezza):\n",
    "    retutn(base * altezza)/2\n"
   ]
  },
  {
   "cell_type": "code",
   "execution_count": null,
   "id": "eb93dbf5",
   "metadata": {},
   "outputs": [],
   "source": [
    "\n"
   ]
  },
  {
   "cell_type": "code",
   "execution_count": null,
   "id": "ccc466d5",
   "metadata": {},
   "outputs": [],
   "source": [
    "def calcola_interessi(importo_inizziale, tasso_intesessi, periodi_investimento):\n",
    "    inporto_finale = importo_inizziale + (1+tasso_interesse /100) ** periodi_investimento\n",
    "    return importo_finale"
   ]
  },
  {
   "cell_type": "code",
   "execution_count": null,
   "id": "868ca578",
   "metadata": {},
   "outputs": [],
   "source": [
    "print(\"benvenuto nel calcolatre di interessi!\")\n",
    "\n",
    "importo_iniziale= float(input(\"insersci l'importo inizziale: \"))\n",
    "tasso_interesse=float(input(\"inserisci il tasso di interesse annuale (%): \"))\n",
    "periodi_investimento=int(input(\"inserisci il periodo di investimento (anni): \"))\n",
    "\n",
    "importo_finale = calcola_interessi(inizzale, intesessi, investimento)\n",
    "\n",
    "print(f\"L'importo finale dopo{periodi_investimento}anni è di {importo_finale:.2f} euro.\")\n"
   ]
  },
  {
   "cell_type": "code",
   "execution_count": null,
   "id": "81c57b8f",
   "metadata": {},
   "outputs": [],
   "source": [
    "def forza_grvitazzionale(m1, m2, r):\n",
    "    G= 6.67430e-11 #N(m/kg)^2\n",
    "    \n",
    "    F=(G* m1* m2) / (r**2)\n",
    "    \n",
    "    return F\n"
   ]
  },
  {
   "cell_type": "code",
   "execution_count": null,
   "id": "2247b182",
   "metadata": {},
   "outputs": [],
   "source": [
    "massa_terra = 5972e24\n",
    "massa_luna = 7.34e22\n",
    "distanza_terra_luna = 384400000\n",
    "\n",
    "forza = forza_grvitazzionale(massa_terra, massa_luna, distanza_terra_luna)\n",
    "print(f\"forza gravitazzionale tra la terra e la luna: {forza} Newton\")"
   ]
  },
  {
   "cell_type": "markdown",
   "id": "03c273d2",
   "metadata": {},
   "source": [
    "dizionario"
   ]
  },
  {
   "cell_type": "code",
   "execution_count": null,
   "id": "32b2a060",
   "metadata": {},
   "outputs": [],
   "source": [
    "frase = input(\"inserisci una frase: \")\n",
    "\n",
    "frase = frase.lower()\n",
    "\n",
    "alfabeto = 'abcdefghijklmnopqrstuvwxyz'\n",
    "\n",
    "conteggio_lettere = {}\n",
    "\n",
    "for lettera in alfabeto:\n",
    "    conteggio = frase.count(lettera)\n",
    "    \n",
    "    if conteggio > 0: conteggio_lettere[lettera] = conteggio\n",
    "       \n",
    "for lettera, conteggio in conteggio_lettere.items():\n",
    "    print(f\"{lettera}: {conteggio}\")"
   ]
  },
  {
   "cell_type": "code",
   "execution_count": null,
   "id": "0e78e707",
   "metadata": {},
   "outputs": [],
   "source": [
    "def gabriele():\n",
    "    print(\"mi chiamo gabriele\")\n",
    "\n",
    "if __name__ == \"__main__\":#e una condizzione ligica che \"si verifica sempre\".\n",
    "    gabriele()"
   ]
  },
  {
   "cell_type": "code",
   "execution_count": 1,
   "id": "ec8f125e",
   "metadata": {},
   "outputs": [
    {
     "ename": "NameError",
     "evalue": "name 'main' is not defined",
     "output_type": "error",
     "traceback": [
      "\u001b[1;31m---------------------------------------------------------------------------\u001b[0m",
      "\u001b[1;31mNameError\u001b[0m                                 Traceback (most recent call last)",
      "Cell \u001b[1;32mIn[1], line 5\u001b[0m\n\u001b[0;32m      2\u001b[0m     \u001b[38;5;28mprint\u001b[39m(\u001b[38;5;124m\"\u001b[39m\u001b[38;5;124mla funzione principale del codice e stata eseguita, in questa funzione possono essere presenti secondarie\u001b[39m\u001b[38;5;124m\\\u001b[39m\u001b[38;5;124m...\u001b[39m\u001b[38;5;124m\"\u001b[39m)\n\u001b[0;32m      4\u001b[0m \u001b[38;5;28;01mif\u001b[39;00m \u001b[38;5;18m__name__\u001b[39m \u001b[38;5;241m==\u001b[39m \u001b[38;5;124m\"\u001b[39m\u001b[38;5;124m__main__\u001b[39m\u001b[38;5;124m\"\u001b[39m:\u001b[38;5;66;03m#e una condizzione ligica che \"si verifica sempre\".\u001b[39;00m\n\u001b[1;32m----> 5\u001b[0m     main()\n",
      "\u001b[1;31mNameError\u001b[0m: name 'main' is not defined"
     ]
    }
   ],
   "source": [
    "def gabriele():\n",
    "    print(\"la funzione principale del codice e stata eseguita, in questa funzione possono essere presenti secondarie\\...\")\n",
    "\n",
    "if __name__ == \"__main__\":#e una condizzione ligica che \"si verifica sempre\".\n",
    "    main()"
   ]
  },
  {
   "cell_type": "code",
   "execution_count": 4,
   "id": "56f2a149",
   "metadata": {},
   "outputs": [
    {
     "ename": "SyntaxError",
     "evalue": "invalid non-printable character U+00A0 (1074806317.py, line 24)",
     "output_type": "error",
     "traceback": [
      "\u001b[1;36m  Cell \u001b[1;32mIn[4], line 24\u001b[1;36m\u001b[0m\n\u001b[1;33m    main()\u001b[0m\n\u001b[1;37m    ^\u001b[0m\n\u001b[1;31mSyntaxError\u001b[0m\u001b[1;31m:\u001b[0m invalid non-printable character U+00A0\n"
     ]
    }
   ],
   "source": [
    "def calcola_bmi(peso, altezza):\n",
    "    return peso / (altezza ** 2)\n",
    "\n",
    "def valuta_bmi(bmi):\n",
    "    if bmi < 18.5:\n",
    "    elif\n",
    "        return \"Sottopeso\"\n",
    "    elif 25 <= bmi < 24.9:\n",
    "        return \"sovrappeso\"\n",
    "    else:\n",
    "        return \"Obeso\"\n",
    "    \n",
    "def main():\n",
    "    print(\"Benvenuto nella calcolatrice BMI!\")\n",
    "    peso = float(input(\"Inserisci il tuo peso in chilogrammi: \"))\n",
    "    altezza = float(input(\"Inserisci la tua altezza in metri: \"))\n",
    "    \n",
    "    bmi = calcola_bmi(peso,altezza)\n",
    "    valutazione = valuta_bmi(bmi)\n",
    "    \n",
    "    print(f\"Il tuo BMI è {bmi:.2f}, sei classificato come '{valutazione}'.\")\n",
    "    \n",
    "if __name__ == \"__main__\":\n",
    "    main()"
   ]
  },
  {
   "cell_type": "code",
   "execution_count": null,
   "id": "65e3277f",
   "metadata": {},
   "outputs": [],
   "source": [
    "def metri_a_piedi(metri):\n",
    "    return metri *3.28084\n",
    "def metri_a_metri(piedi):\n",
    "    return metri /3.28084\n",
    "def metri_a_libbre(chilogrammi):\n",
    "    return metri *2.20462\n",
    "def metri_a_chilogrammi(libbre):\n",
    "    return metri /2.20462\n",
    "\n",
    "def selezione(scelta):\n",
    "    if scelta==metri\n",
    "    valore=float(input(\"inserisci un valore in metri: \"))\n",
    "    risultato= metri_a_piedi(valore)\n",
    "    print(f\"{valore: .3f}pidei corrispondono a {risultato: .3f}piedi.\")\n",
    "elif   scelta==\"piedi\":\n",
    "    valore=float(input(\"inserisci un valore in piedi: \"))\n",
    "    risultato= piedi_a_metri(valore)\n",
    "    print(f\"{valore: .3f}piedi corrispondono a {risultato: .3f}metri.\")\n",
    "elif   scelta==\"chilogrammi\":\n",
    "    valore=float(input(\"inserisci un valore in chilogrammi: \"))\n",
    "    risultato= piedi_a_libbre(valore)\n",
    "    print(f\"{valore: .3f}chilogrammi corrispondono a {risultato: .3f}libbre.\")\n",
    "elif   scelta==\"chilogrammi\":\n",
    "    \n",
    "    \n",
    "    ...\n",
    "    \n",
    "    "
   ]
  },
  {
   "cell_type": "code",
   "execution_count": 2,
   "id": "7857a53b",
   "metadata": {},
   "outputs": [
    {
     "name": "stdout",
     "output_type": "stream",
     "text": [
      "Menu:\n",
      "\n",
      " 1. Aggungi cibo consumato\n",
      "\n",
      " 2. Calcol calorie totali\n",
      "\n",
      " 3. Esci\n",
      "Scegli un'opinione: 2\n",
      "\n",
      "Calorie totali consumate: 0 calorie\n",
      "Menu:\n",
      "\n",
      " 1. Aggungi cibo consumato\n",
      "\n",
      " 2. Calcol calorie totali\n",
      "\n",
      " 3. Esci\n",
      "Scegli un'opinione: 1\n",
      "\n",
      "\n",
      "pizza 285\n",
      "hamburger 250\n",
      "insalata 100\n",
      "yogurt 150\n",
      "Inserici in cibo consumato: pizza\n",
      "inserisci la quantita(in grammi: 1000\n",
      "Menu:\n",
      "\n",
      " 1. Aggungi cibo consumato\n",
      "\n",
      " 2. Calcol calorie totali\n",
      "\n",
      " 3. Esci\n",
      "Scegli un'opinione: 2\n"
     ]
    },
    {
     "ename": "NameError",
     "evalue": "name 'calorie_consumato' is not defined",
     "output_type": "error",
     "traceback": [
      "\u001b[1;31m---------------------------------------------------------------------------\u001b[0m",
      "\u001b[1;31mNameError\u001b[0m                                 Traceback (most recent call last)",
      "Cell \u001b[1;32mIn[2], line 46\u001b[0m\n\u001b[0;32m     43\u001b[0m             \u001b[38;5;28mprint\u001b[39m(\u001b[38;5;124m\"\u001b[39m\u001b[38;5;130;01m\\n\u001b[39;00m\u001b[38;5;124mScelta non valida. Riprova.\u001b[39m\u001b[38;5;124m\"\u001b[39m)\n\u001b[0;32m     45\u001b[0m \u001b[38;5;28;01mif\u001b[39;00m \u001b[38;5;18m__name__\u001b[39m \u001b[38;5;241m==\u001b[39m \u001b[38;5;124m\"\u001b[39m\u001b[38;5;124m__main__\u001b[39m\u001b[38;5;124m\"\u001b[39m:\n\u001b[1;32m---> 46\u001b[0m     main()\n",
      "Cell \u001b[1;32mIn[2], line 38\u001b[0m, in \u001b[0;36mmain\u001b[1;34m()\u001b[0m\n\u001b[0;32m     34\u001b[0m     cibo_consumato\u001b[38;5;241m.\u001b[39mappend((cibo, quantita))\n\u001b[0;32m     37\u001b[0m \u001b[38;5;28;01melif\u001b[39;00m scelta\u001b[38;5;241m==\u001b[39m\u001b[38;5;124m\"\u001b[39m\u001b[38;5;124m2\u001b[39m\u001b[38;5;124m\"\u001b[39m:\n\u001b[1;32m---> 38\u001b[0m     calorie_totali\u001b[38;5;241m=\u001b[39m \u001b[38;5;28msum\u001b[39m(calorie_consumato(c, q) \u001b[38;5;28;01mfor\u001b[39;00m c, q \u001b[38;5;129;01min\u001b[39;00m cibo_consumato)\n\u001b[0;32m     39\u001b[0m     \u001b[38;5;28mprint\u001b[39m(\u001b[38;5;124mf\u001b[39m\u001b[38;5;124m\"\u001b[39m\u001b[38;5;130;01m\\n\u001b[39;00m\u001b[38;5;124mCalorie totali consumate: \u001b[39m\u001b[38;5;132;01m{\u001b[39;00mcalorie_totali\u001b[38;5;132;01m}\u001b[39;00m\u001b[38;5;124m calorie\u001b[39m\u001b[38;5;124m\"\u001b[39m)\n\u001b[0;32m     40\u001b[0m \u001b[38;5;28;01melif\u001b[39;00m scelta\u001b[38;5;241m==\u001b[39m\u001b[38;5;124m\"\u001b[39m\u001b[38;5;124m3\u001b[39m\u001b[38;5;124m\"\u001b[39m:\n",
      "Cell \u001b[1;32mIn[2], line 38\u001b[0m, in \u001b[0;36m<genexpr>\u001b[1;34m(.0)\u001b[0m\n\u001b[0;32m     34\u001b[0m     cibo_consumato\u001b[38;5;241m.\u001b[39mappend((cibo, quantita))\n\u001b[0;32m     37\u001b[0m \u001b[38;5;28;01melif\u001b[39;00m scelta\u001b[38;5;241m==\u001b[39m\u001b[38;5;124m\"\u001b[39m\u001b[38;5;124m2\u001b[39m\u001b[38;5;124m\"\u001b[39m:\n\u001b[1;32m---> 38\u001b[0m     calorie_totali\u001b[38;5;241m=\u001b[39m \u001b[38;5;28msum\u001b[39m(calorie_consumato(c, q) \u001b[38;5;28;01mfor\u001b[39;00m c, q \u001b[38;5;129;01min\u001b[39;00m cibo_consumato)\n\u001b[0;32m     39\u001b[0m     \u001b[38;5;28mprint\u001b[39m(\u001b[38;5;124mf\u001b[39m\u001b[38;5;124m\"\u001b[39m\u001b[38;5;130;01m\\n\u001b[39;00m\u001b[38;5;124mCalorie totali consumate: \u001b[39m\u001b[38;5;132;01m{\u001b[39;00mcalorie_totali\u001b[38;5;132;01m}\u001b[39;00m\u001b[38;5;124m calorie\u001b[39m\u001b[38;5;124m\"\u001b[39m)\n\u001b[0;32m     40\u001b[0m \u001b[38;5;28;01melif\u001b[39;00m scelta\u001b[38;5;241m==\u001b[39m\u001b[38;5;124m\"\u001b[39m\u001b[38;5;124m3\u001b[39m\u001b[38;5;124m\"\u001b[39m:\n",
      "\u001b[1;31mNameError\u001b[0m: name 'calorie_consumato' is not defined"
     ]
    }
   ],
   "source": [
    "cibo_calorie={\n",
    "    \"pizza\": 285,\n",
    "    \"hamburger\": 250,\n",
    "    \"insalata\": 100,\n",
    "    \"yogurt\": 150,        \n",
    "}\n",
    "\n",
    "def calorie_consumate(cibo, quantita):\n",
    "    if cibo not in cibo_calorie.keys():\n",
    "        print(\"cibo non presente\")\n",
    "    elif cibo in cibo_calorie.keys():\n",
    "            calorie_per_100g=cibo_calorie[cibo]\n",
    "            calorie_totali=(calorie_per_100g/100)*quantita\n",
    "            returncalorie_totali\n",
    "            \n",
    "def main():\n",
    "    cibo_consumato=[]\n",
    "    \n",
    "    while True:\n",
    "        print(\"Menu:\")\n",
    "        print(\"\\n 1. Aggungi cibo consumato\") \n",
    "        print(\"\\n 2. Calcol calorie totali\")\n",
    "        print(\"\\n 3. Esci\")\n",
    "        \n",
    "        scelta=input(\"Scegli un'opinione: \")\n",
    "        if scelta==\"1\":\n",
    "            print(\"\\n\")\n",
    "            \n",
    "            for key, value in cibo_calorie.items() :\n",
    "                print (key, value)\n",
    "                \n",
    "            cibo=input(\"Inserici in cibo consumato: \").lower\n",
    "            quantita=float(input(\"inserisci la quantita(in grammi: \"))\n",
    "            cibo_consumato.append((cibo, quantita))\n",
    "\n",
    "            \n",
    "        elif scelta==\"2\":\n",
    "            calorie_totali= sum(calorie_consumate(c, q) for c, q in cibo_consumato)\n",
    "            print(f\"\\nCalorie totali consumate: {calorie_totali} calorie\")\n",
    "        elif scelta==\"3\":\n",
    "            break\n",
    "        else:\n",
    "            print(\"\\nScelta non valida. Riprova.\")\n",
    "            \n",
    "if __name__ == \"__main__\":\n",
    "    main()"
   ]
  },
  {
   "cell_type": "code",
   "execution_count": 4,
   "id": "8e9c21b4",
   "metadata": {},
   "outputs": [
    {
     "name": "stdout",
     "output_type": "stream",
     "text": [
      "Benventuto nel Generatore di Citazzioni!\n",
      "premi invio per ottenere una citazzione casuale...\n"
     ]
    }
   ],
   "source": [
    "import random \n",
    "citazzione= [\n",
    "    \"Il destino è ciò che accade mentre sei concentrato su altri obiettivi. - Allen Saunders\"\n",
    "    \"Il successo consiste nel passare da un errore all'altro senza perdere la determinazione. - Winston Churchill\"\n",
    "    \"La vita è fatta di momenti che si svelano mentre siamo occupati a tracciare altri piani. - Vera Nazarian\"\n",
    "    \"Il segreto per raggiungere la felicità è attraversare le sfide senza mai perdere la speranza. - Ralph Waldo Emerson\"\n",
    "    \"Gli errori sono solo pietre lungo il sentiero del successo, non devi mai smettere di camminare. - Conrad Hilton\"  \n",
    "]\n",
    "\n",
    "def genera_citazione():\n",
    "    ...\n",
    "    return random.choice(citazioni)\n",
    "\n",
    "def main():\n",
    "    print(\"Benventuto nel Generatore di Citazzioni!\")\n",
    "    input(\"premi invio per ottenere una citazzione casuale...\")\n",
    "    \n",
    "if __name__ == \"__main__\":\n",
    "    main() "
   ]
  },
  {
   "cell_type": "code",
   "execution_count": 5,
   "id": "89ddc220",
   "metadata": {},
   "outputs": [
    {
     "name": "stdout",
     "output_type": "stream",
     "text": [
      "Il dolce veneto canta.\n",
      "Il profondo amore sorride.\n",
      "Il dolce veneto canta.\n"
     ]
    }
   ],
   "source": [
    "agettivi=[\"dolce\", \"sereno\", \"profondo\", \"luminoso\", \"gentile\"]\n",
    "sostantivi=[\"amore\", \"mare\", \"cielo\", \"veneto\", \"sogno\"]\n",
    "verbi=[\"danza\", \"splende\", \"abbraccia\", \"canta\", \"sorride\"]\n",
    "\n",
    "def genera_poesia():\n",
    "    verso1=f\"Il {random.choice(agettivi)} {random.choice(sostantivi)} {random.choice(verbi)}.\"\n",
    "    verso2=f\"Il {random.choice(agettivi)} {random.choice(sostantivi)} {random.choice(verbi)}.\"\n",
    "    verso3=f\"Il {random.choice(agettivi)} {random.choice(sostantivi)} {random.choice(verbi)}.\"\n",
    "    return f\"{verso1}\\n{verso2}\\n{verso3}\"\n",
    "print(genera_poesia())\n",
    "    "
   ]
  },
  {
   "cell_type": "code",
   "execution_count": null,
   "id": "883e8e77",
   "metadata": {},
   "outputs": [],
   "source": []
  }
 ],
 "metadata": {
  "kernelspec": {
   "display_name": "Python 3 (ipykernel)",
   "language": "python",
   "name": "python3"
  },
  "language_info": {
   "codemirror_mode": {
    "name": "ipython",
    "version": 3
   },
   "file_extension": ".py",
   "mimetype": "text/x-python",
   "name": "python",
   "nbconvert_exporter": "python",
   "pygments_lexer": "ipython3",
   "version": "3.11.4"
  }
 },
 "nbformat": 4,
 "nbformat_minor": 5
}
